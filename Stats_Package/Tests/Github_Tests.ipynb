{
 "cells": [
  {
   "cell_type": "code",
   "execution_count": 1,
   "id": "d27e6e28",
   "metadata": {},
   "outputs": [],
   "source": [
    "##Stats Packages\n",
    "from Stats_Package.stats_descriptives_module import freqs, desc, xtab_cols, xtab_rows, xtab_all \n",
    "from Stats_Package.stats_analysis_module import chi_sq, chisq_posthoc_bon, ttest_1sample, ttest_2sample, ttest_paired, KW_shape_assumption, corr_pearson"
   ]
  },
  {
   "cell_type": "code",
   "execution_count": null,
   "id": "8b13a3d2",
   "metadata": {},
   "outputs": [],
   "source": [
    "#NEED THIS FOR DF \n",
    "import pandas as pd\n",
    "import numpy as np"
   ]
  },
  {
   "cell_type": "code",
   "execution_count": null,
   "id": "43ad9473",
   "metadata": {},
   "outputs": [],
   "source": [
    "##trying things - have to write package name in front.\n",
    "#from Stats_Package_TEST.stats_descriptives_module import *\n",
    "#from Stats_Package_TEST.stats_analysis_module import *"
   ]
  },
  {
   "cell_type": "code",
   "execution_count": null,
   "id": "cd866d47",
   "metadata": {},
   "outputs": [],
   "source": [
    "#create test df\n",
    "df = pd.DataFrame({'one': [1,2,3,4], 'two': [4,5,6,7], 'three': ['cat', 'dog', 'birb', 'mouz'], 'four' : [4,4,4,4], 'five': ['', 'a', 'c', 'c']})\n",
    "df"
   ]
  },
  {
   "cell_type": "code",
   "execution_count": null,
   "id": "f6e18bf2",
   "metadata": {},
   "outputs": [],
   "source": [
    "#test freqs from descriptives\n",
    "freqs(df, ['three'], False)"
   ]
  },
  {
   "cell_type": "code",
   "execution_count": null,
   "id": "afd1d815",
   "metadata": {},
   "outputs": [],
   "source": [
    "#test chisq from analysis\n",
    "chi_sq(df, ['three'], 'one', 0.05)"
   ]
  },
  {
   "cell_type": "code",
   "execution_count": null,
   "id": "19309b7a",
   "metadata": {},
   "outputs": [],
   "source": [
    "xtab_cols(df, ['five'], 'three')"
   ]
  },
  {
   "cell_type": "code",
   "execution_count": null,
   "id": "120e6eea",
   "metadata": {},
   "outputs": [],
   "source": [
    "df['five'] = np.where(df['five'] == '', np.nan, df['five'])\n",
    "df"
   ]
  },
  {
   "cell_type": "code",
   "execution_count": null,
   "id": "a7a6d719",
   "metadata": {},
   "outputs": [],
   "source": [
    "xtab_cols(df, ['five'], 'three')"
   ]
  },
  {
   "cell_type": "code",
   "execution_count": null,
   "id": "a9ed9711",
   "metadata": {},
   "outputs": [],
   "source": []
  }
 ],
 "metadata": {
  "kernelspec": {
   "display_name": "Python 3",
   "language": "python",
   "name": "python3"
  },
  "language_info": {
   "codemirror_mode": {
    "name": "ipython",
    "version": 3
   },
   "file_extension": ".py",
   "mimetype": "text/x-python",
   "name": "python",
   "nbconvert_exporter": "python",
   "pygments_lexer": "ipython3",
   "version": "3.8.8"
  }
 },
 "nbformat": 4,
 "nbformat_minor": 5
}
